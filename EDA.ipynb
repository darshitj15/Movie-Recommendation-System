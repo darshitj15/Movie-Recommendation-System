{
 "cells": [
  {
   "cell_type": "code",
   "execution_count": 1,
   "metadata": {},
   "outputs": [],
   "source": [
    "import pandas as pd\n",
    "import numpy as np\n",
    "import seaborn as sns\n",
    "import matplotlib.pyplot as plt"
   ]
  },
  {
   "cell_type": "code",
   "execution_count": 4,
   "metadata": {},
   "outputs": [],
   "source": [
    "rating = pd.read_csv('rating.csv')"
   ]
  },
  {
   "cell_type": "code",
   "execution_count": 5,
   "metadata": {},
   "outputs": [],
   "source": [
    "movie = pd.read_csv('movie.csv')"
   ]
  },
  {
   "cell_type": "code",
   "execution_count": 19,
   "metadata": {},
   "outputs": [
    {
     "name": "stdout",
     "output_type": "stream",
     "text": [
      "<class 'pandas.core.frame.DataFrame'>\n",
      "RangeIndex: 20000263 entries, 0 to 20000262\n",
      "Data columns (total 4 columns):\n",
      "userId       int64\n",
      "movieId      int64\n",
      "rating       float64\n",
      "timestamp    object\n",
      "dtypes: float64(1), int64(2), object(1)\n",
      "memory usage: 610.4+ MB\n"
     ]
    }
   ],
   "source": [
    "rating.info()"
   ]
  },
  {
   "cell_type": "code",
   "execution_count": 16,
   "metadata": {},
   "outputs": [
    {
     "data": {
      "text/plain": [
       "userId       0\n",
       "movieId      0\n",
       "rating       0\n",
       "timestamp    0\n",
       "dtype: int64"
      ]
     },
     "execution_count": 16,
     "metadata": {},
     "output_type": "execute_result"
    }
   ],
   "source": [
    "rating.isnull().sum()"
   ]
  },
  {
   "cell_type": "code",
   "execution_count": 102,
   "metadata": {},
   "outputs": [
    {
     "data": {
      "text/html": [
       "<div>\n",
       "<style scoped>\n",
       "    .dataframe tbody tr th:only-of-type {\n",
       "        vertical-align: middle;\n",
       "    }\n",
       "\n",
       "    .dataframe tbody tr th {\n",
       "        vertical-align: top;\n",
       "    }\n",
       "\n",
       "    .dataframe thead th {\n",
       "        text-align: right;\n",
       "    }\n",
       "</style>\n",
       "<table border=\"1\" class=\"dataframe\">\n",
       "  <thead>\n",
       "    <tr style=\"text-align: right;\">\n",
       "      <th></th>\n",
       "      <th>userId</th>\n",
       "      <th>movieId</th>\n",
       "      <th>rating</th>\n",
       "      <th>timestamp</th>\n",
       "    </tr>\n",
       "  </thead>\n",
       "  <tbody>\n",
       "    <tr>\n",
       "      <td>0</td>\n",
       "      <td>1</td>\n",
       "      <td>2</td>\n",
       "      <td>3.5</td>\n",
       "      <td>2005-04-02 23:53:47</td>\n",
       "    </tr>\n",
       "    <tr>\n",
       "      <td>1</td>\n",
       "      <td>1</td>\n",
       "      <td>29</td>\n",
       "      <td>3.5</td>\n",
       "      <td>2005-04-02 23:31:16</td>\n",
       "    </tr>\n",
       "    <tr>\n",
       "      <td>2</td>\n",
       "      <td>1</td>\n",
       "      <td>32</td>\n",
       "      <td>3.5</td>\n",
       "      <td>2005-04-02 23:33:39</td>\n",
       "    </tr>\n",
       "    <tr>\n",
       "      <td>3</td>\n",
       "      <td>1</td>\n",
       "      <td>47</td>\n",
       "      <td>3.5</td>\n",
       "      <td>2005-04-02 23:32:07</td>\n",
       "    </tr>\n",
       "    <tr>\n",
       "      <td>4</td>\n",
       "      <td>1</td>\n",
       "      <td>50</td>\n",
       "      <td>3.5</td>\n",
       "      <td>2005-04-02 23:29:40</td>\n",
       "    </tr>\n",
       "    <tr>\n",
       "      <td>5</td>\n",
       "      <td>1</td>\n",
       "      <td>112</td>\n",
       "      <td>3.5</td>\n",
       "      <td>2004-09-10 03:09:00</td>\n",
       "    </tr>\n",
       "    <tr>\n",
       "      <td>6</td>\n",
       "      <td>1</td>\n",
       "      <td>151</td>\n",
       "      <td>4.0</td>\n",
       "      <td>2004-09-10 03:08:54</td>\n",
       "    </tr>\n",
       "    <tr>\n",
       "      <td>7</td>\n",
       "      <td>1</td>\n",
       "      <td>223</td>\n",
       "      <td>4.0</td>\n",
       "      <td>2005-04-02 23:46:13</td>\n",
       "    </tr>\n",
       "    <tr>\n",
       "      <td>8</td>\n",
       "      <td>1</td>\n",
       "      <td>253</td>\n",
       "      <td>4.0</td>\n",
       "      <td>2005-04-02 23:35:40</td>\n",
       "    </tr>\n",
       "    <tr>\n",
       "      <td>9</td>\n",
       "      <td>1</td>\n",
       "      <td>260</td>\n",
       "      <td>4.0</td>\n",
       "      <td>2005-04-02 23:33:46</td>\n",
       "    </tr>\n",
       "  </tbody>\n",
       "</table>\n",
       "</div>"
      ],
      "text/plain": [
       "   userId  movieId  rating            timestamp\n",
       "0       1        2     3.5  2005-04-02 23:53:47\n",
       "1       1       29     3.5  2005-04-02 23:31:16\n",
       "2       1       32     3.5  2005-04-02 23:33:39\n",
       "3       1       47     3.5  2005-04-02 23:32:07\n",
       "4       1       50     3.5  2005-04-02 23:29:40\n",
       "5       1      112     3.5  2004-09-10 03:09:00\n",
       "6       1      151     4.0  2004-09-10 03:08:54\n",
       "7       1      223     4.0  2005-04-02 23:46:13\n",
       "8       1      253     4.0  2005-04-02 23:35:40\n",
       "9       1      260     4.0  2005-04-02 23:33:46"
      ]
     },
     "execution_count": 102,
     "metadata": {},
     "output_type": "execute_result"
    }
   ],
   "source": [
    "rating.head(10)"
   ]
  },
  {
   "cell_type": "code",
   "execution_count": 20,
   "metadata": {},
   "outputs": [
    {
     "name": "stdout",
     "output_type": "stream",
     "text": [
      "<class 'pandas.core.frame.DataFrame'>\n",
      "RangeIndex: 27278 entries, 0 to 27277\n",
      "Data columns (total 3 columns):\n",
      "movieId    27278 non-null int64\n",
      "title      27278 non-null object\n",
      "genres     27278 non-null object\n",
      "dtypes: int64(1), object(2)\n",
      "memory usage: 639.5+ KB\n"
     ]
    }
   ],
   "source": [
    "movie.info()"
   ]
  },
  {
   "cell_type": "code",
   "execution_count": 17,
   "metadata": {},
   "outputs": [
    {
     "data": {
      "text/plain": [
       "movieId    0\n",
       "title      0\n",
       "genres     0\n",
       "dtype: int64"
      ]
     },
     "execution_count": 17,
     "metadata": {},
     "output_type": "execute_result"
    }
   ],
   "source": [
    "movie.isnull().sum()"
   ]
  },
  {
   "cell_type": "code",
   "execution_count": 106,
   "metadata": {},
   "outputs": [
    {
     "data": {
      "text/plain": [
       "27262"
      ]
     },
     "execution_count": 106,
     "metadata": {},
     "output_type": "execute_result"
    }
   ],
   "source": [
    "len(movie.title.unique())"
   ]
  },
  {
   "cell_type": "code",
   "execution_count": null,
   "metadata": {},
   "outputs": [],
   "source": []
  },
  {
   "cell_type": "code",
   "execution_count": 29,
   "metadata": {},
   "outputs": [
    {
     "data": {
      "text/html": [
       "<div>\n",
       "<style scoped>\n",
       "    .dataframe tbody tr th:only-of-type {\n",
       "        vertical-align: middle;\n",
       "    }\n",
       "\n",
       "    .dataframe tbody tr th {\n",
       "        vertical-align: top;\n",
       "    }\n",
       "\n",
       "    .dataframe thead th {\n",
       "        text-align: right;\n",
       "    }\n",
       "</style>\n",
       "<table border=\"1\" class=\"dataframe\">\n",
       "  <thead>\n",
       "    <tr style=\"text-align: right;\">\n",
       "      <th></th>\n",
       "      <th>userId</th>\n",
       "      <th>movieId</th>\n",
       "      <th>rating</th>\n",
       "      <th>timestamp</th>\n",
       "      <th>title</th>\n",
       "      <th>genres</th>\n",
       "    </tr>\n",
       "  </thead>\n",
       "  <tbody>\n",
       "    <tr>\n",
       "      <td>0</td>\n",
       "      <td>1</td>\n",
       "      <td>2</td>\n",
       "      <td>3.5</td>\n",
       "      <td>2005-04-02 23:53:47</td>\n",
       "      <td>Jumanji (1995)</td>\n",
       "      <td>Adventure|Children|Fantasy</td>\n",
       "    </tr>\n",
       "    <tr>\n",
       "      <td>1</td>\n",
       "      <td>5</td>\n",
       "      <td>2</td>\n",
       "      <td>3.0</td>\n",
       "      <td>1996-12-25 15:26:09</td>\n",
       "      <td>Jumanji (1995)</td>\n",
       "      <td>Adventure|Children|Fantasy</td>\n",
       "    </tr>\n",
       "    <tr>\n",
       "      <td>2</td>\n",
       "      <td>13</td>\n",
       "      <td>2</td>\n",
       "      <td>3.0</td>\n",
       "      <td>1996-11-27 08:19:02</td>\n",
       "      <td>Jumanji (1995)</td>\n",
       "      <td>Adventure|Children|Fantasy</td>\n",
       "    </tr>\n",
       "    <tr>\n",
       "      <td>3</td>\n",
       "      <td>29</td>\n",
       "      <td>2</td>\n",
       "      <td>3.0</td>\n",
       "      <td>1996-06-23 20:36:14</td>\n",
       "      <td>Jumanji (1995)</td>\n",
       "      <td>Adventure|Children|Fantasy</td>\n",
       "    </tr>\n",
       "    <tr>\n",
       "      <td>4</td>\n",
       "      <td>34</td>\n",
       "      <td>2</td>\n",
       "      <td>3.0</td>\n",
       "      <td>1996-10-28 13:29:44</td>\n",
       "      <td>Jumanji (1995)</td>\n",
       "      <td>Adventure|Children|Fantasy</td>\n",
       "    </tr>\n",
       "    <tr>\n",
       "      <td>...</td>\n",
       "      <td>...</td>\n",
       "      <td>...</td>\n",
       "      <td>...</td>\n",
       "      <td>...</td>\n",
       "      <td>...</td>\n",
       "      <td>...</td>\n",
       "    </tr>\n",
       "    <tr>\n",
       "      <td>20000258</td>\n",
       "      <td>138301</td>\n",
       "      <td>121017</td>\n",
       "      <td>3.5</td>\n",
       "      <td>2015-01-06 15:34:39</td>\n",
       "      <td>The Gentleman from Epsom (1962)</td>\n",
       "      <td>Comedy|Crime</td>\n",
       "    </tr>\n",
       "    <tr>\n",
       "      <td>20000259</td>\n",
       "      <td>138301</td>\n",
       "      <td>121019</td>\n",
       "      <td>4.5</td>\n",
       "      <td>2015-01-06 15:36:46</td>\n",
       "      <td>The Great Spy Chase (1964)</td>\n",
       "      <td>Action|Comedy|Thriller</td>\n",
       "    </tr>\n",
       "    <tr>\n",
       "      <td>20000260</td>\n",
       "      <td>138301</td>\n",
       "      <td>121021</td>\n",
       "      <td>4.5</td>\n",
       "      <td>2015-01-06 15:38:07</td>\n",
       "      <td>Taxi for Tobruk (1961)</td>\n",
       "      <td>Drama|War</td>\n",
       "    </tr>\n",
       "    <tr>\n",
       "      <td>20000261</td>\n",
       "      <td>138406</td>\n",
       "      <td>110167</td>\n",
       "      <td>4.5</td>\n",
       "      <td>2014-03-30 12:55:27</td>\n",
       "      <td>Judge and the Assassin, The (Juge et l'assassi...</td>\n",
       "      <td>Crime|Drama</td>\n",
       "    </tr>\n",
       "    <tr>\n",
       "      <td>20000262</td>\n",
       "      <td>138406</td>\n",
       "      <td>110510</td>\n",
       "      <td>4.5</td>\n",
       "      <td>2014-04-15 21:32:19</td>\n",
       "      <td>Série noire (1979)</td>\n",
       "      <td>Film-Noir</td>\n",
       "    </tr>\n",
       "  </tbody>\n",
       "</table>\n",
       "<p>20000263 rows × 6 columns</p>\n",
       "</div>"
      ],
      "text/plain": [
       "          userId  movieId  rating            timestamp  \\\n",
       "0              1        2     3.5  2005-04-02 23:53:47   \n",
       "1              5        2     3.0  1996-12-25 15:26:09   \n",
       "2             13        2     3.0  1996-11-27 08:19:02   \n",
       "3             29        2     3.0  1996-06-23 20:36:14   \n",
       "4             34        2     3.0  1996-10-28 13:29:44   \n",
       "...          ...      ...     ...                  ...   \n",
       "20000258  138301   121017     3.5  2015-01-06 15:34:39   \n",
       "20000259  138301   121019     4.5  2015-01-06 15:36:46   \n",
       "20000260  138301   121021     4.5  2015-01-06 15:38:07   \n",
       "20000261  138406   110167     4.5  2014-03-30 12:55:27   \n",
       "20000262  138406   110510     4.5  2014-04-15 21:32:19   \n",
       "\n",
       "                                                      title  \\\n",
       "0                                            Jumanji (1995)   \n",
       "1                                            Jumanji (1995)   \n",
       "2                                            Jumanji (1995)   \n",
       "3                                            Jumanji (1995)   \n",
       "4                                            Jumanji (1995)   \n",
       "...                                                     ...   \n",
       "20000258                    The Gentleman from Epsom (1962)   \n",
       "20000259                         The Great Spy Chase (1964)   \n",
       "20000260                             Taxi for Tobruk (1961)   \n",
       "20000261  Judge and the Assassin, The (Juge et l'assassi...   \n",
       "20000262                                 Série noire (1979)   \n",
       "\n",
       "                              genres  \n",
       "0         Adventure|Children|Fantasy  \n",
       "1         Adventure|Children|Fantasy  \n",
       "2         Adventure|Children|Fantasy  \n",
       "3         Adventure|Children|Fantasy  \n",
       "4         Adventure|Children|Fantasy  \n",
       "...                              ...  \n",
       "20000258                Comedy|Crime  \n",
       "20000259      Action|Comedy|Thriller  \n",
       "20000260                   Drama|War  \n",
       "20000261                 Crime|Drama  \n",
       "20000262                   Film-Noir  \n",
       "\n",
       "[20000263 rows x 6 columns]"
      ]
     },
     "execution_count": 29,
     "metadata": {},
     "output_type": "execute_result"
    }
   ],
   "source": [
    "combined = pd.merge(rating, movie, on='movieId')\n",
    "combined"
   ]
  },
  {
   "cell_type": "code",
   "execution_count": null,
   "metadata": {},
   "outputs": [],
   "source": []
  },
  {
   "cell_type": "code",
   "execution_count": null,
   "metadata": {},
   "outputs": [],
   "source": []
  },
  {
   "cell_type": "code",
   "execution_count": 15,
   "metadata": {},
   "outputs": [
    {
     "data": {
      "text/html": [
       "<div>\n",
       "<style scoped>\n",
       "    .dataframe tbody tr th:only-of-type {\n",
       "        vertical-align: middle;\n",
       "    }\n",
       "\n",
       "    .dataframe tbody tr th {\n",
       "        vertical-align: top;\n",
       "    }\n",
       "\n",
       "    .dataframe thead th {\n",
       "        text-align: right;\n",
       "    }\n",
       "</style>\n",
       "<table border=\"1\" class=\"dataframe\">\n",
       "  <thead>\n",
       "    <tr style=\"text-align: right;\">\n",
       "      <th></th>\n",
       "      <th>userId</th>\n",
       "      <th>movieId</th>\n",
       "      <th>timestamp</th>\n",
       "    </tr>\n",
       "    <tr>\n",
       "      <th>rating</th>\n",
       "      <th></th>\n",
       "      <th></th>\n",
       "      <th></th>\n",
       "    </tr>\n",
       "  </thead>\n",
       "  <tbody>\n",
       "    <tr>\n",
       "      <td>0.5</td>\n",
       "      <td>239125</td>\n",
       "      <td>239125</td>\n",
       "      <td>239125</td>\n",
       "    </tr>\n",
       "    <tr>\n",
       "      <td>1.0</td>\n",
       "      <td>680732</td>\n",
       "      <td>680732</td>\n",
       "      <td>680732</td>\n",
       "    </tr>\n",
       "    <tr>\n",
       "      <td>1.5</td>\n",
       "      <td>279252</td>\n",
       "      <td>279252</td>\n",
       "      <td>279252</td>\n",
       "    </tr>\n",
       "    <tr>\n",
       "      <td>2.0</td>\n",
       "      <td>1430997</td>\n",
       "      <td>1430997</td>\n",
       "      <td>1430997</td>\n",
       "    </tr>\n",
       "    <tr>\n",
       "      <td>2.5</td>\n",
       "      <td>883398</td>\n",
       "      <td>883398</td>\n",
       "      <td>883398</td>\n",
       "    </tr>\n",
       "    <tr>\n",
       "      <td>3.0</td>\n",
       "      <td>4291193</td>\n",
       "      <td>4291193</td>\n",
       "      <td>4291193</td>\n",
       "    </tr>\n",
       "    <tr>\n",
       "      <td>3.5</td>\n",
       "      <td>2200156</td>\n",
       "      <td>2200156</td>\n",
       "      <td>2200156</td>\n",
       "    </tr>\n",
       "    <tr>\n",
       "      <td>4.0</td>\n",
       "      <td>5561926</td>\n",
       "      <td>5561926</td>\n",
       "      <td>5561926</td>\n",
       "    </tr>\n",
       "    <tr>\n",
       "      <td>4.5</td>\n",
       "      <td>1534824</td>\n",
       "      <td>1534824</td>\n",
       "      <td>1534824</td>\n",
       "    </tr>\n",
       "    <tr>\n",
       "      <td>5.0</td>\n",
       "      <td>2898660</td>\n",
       "      <td>2898660</td>\n",
       "      <td>2898660</td>\n",
       "    </tr>\n",
       "  </tbody>\n",
       "</table>\n",
       "</div>"
      ],
      "text/plain": [
       "         userId  movieId  timestamp\n",
       "rating                             \n",
       "0.5      239125   239125     239125\n",
       "1.0      680732   680732     680732\n",
       "1.5      279252   279252     279252\n",
       "2.0     1430997  1430997    1430997\n",
       "2.5      883398   883398     883398\n",
       "3.0     4291193  4291193    4291193\n",
       "3.5     2200156  2200156    2200156\n",
       "4.0     5561926  5561926    5561926\n",
       "4.5     1534824  1534824    1534824\n",
       "5.0     2898660  2898660    2898660"
      ]
     },
     "execution_count": 15,
     "metadata": {},
     "output_type": "execute_result"
    }
   ],
   "source": [
    "rating.groupby('rating').count()"
   ]
  },
  {
   "cell_type": "code",
   "execution_count": 32,
   "metadata": {},
   "outputs": [
    {
     "data": {
      "text/html": [
       "<div>\n",
       "<style scoped>\n",
       "    .dataframe tbody tr th:only-of-type {\n",
       "        vertical-align: middle;\n",
       "    }\n",
       "\n",
       "    .dataframe tbody tr th {\n",
       "        vertical-align: top;\n",
       "    }\n",
       "\n",
       "    .dataframe thead th {\n",
       "        text-align: right;\n",
       "    }\n",
       "</style>\n",
       "<table border=\"1\" class=\"dataframe\">\n",
       "  <thead>\n",
       "    <tr style=\"text-align: right;\">\n",
       "      <th></th>\n",
       "      <th>rating</th>\n",
       "    </tr>\n",
       "    <tr>\n",
       "      <th>title</th>\n",
       "      <th></th>\n",
       "    </tr>\n",
       "  </thead>\n",
       "  <tbody>\n",
       "    <tr>\n",
       "      <td>#chicagoGirl: The Social Network Takes on a Dictator (2013)</td>\n",
       "      <td>3.666667</td>\n",
       "    </tr>\n",
       "    <tr>\n",
       "      <td>$ (Dollars) (1971)</td>\n",
       "      <td>2.833333</td>\n",
       "    </tr>\n",
       "    <tr>\n",
       "      <td>$5 a Day (2008)</td>\n",
       "      <td>2.871795</td>\n",
       "    </tr>\n",
       "    <tr>\n",
       "      <td>$9.99 (2008)</td>\n",
       "      <td>3.009091</td>\n",
       "    </tr>\n",
       "    <tr>\n",
       "      <td>$ellebrity (Sellebrity) (2012)</td>\n",
       "      <td>2.000000</td>\n",
       "    </tr>\n",
       "    <tr>\n",
       "      <td>...</td>\n",
       "      <td>...</td>\n",
       "    </tr>\n",
       "    <tr>\n",
       "      <td>À propos de Nice (1930)</td>\n",
       "      <td>3.125000</td>\n",
       "    </tr>\n",
       "    <tr>\n",
       "      <td>Árido Movie (2005)</td>\n",
       "      <td>2.000000</td>\n",
       "    </tr>\n",
       "    <tr>\n",
       "      <td>Åsa-Nisse - Wälkom to Knohult (2011)</td>\n",
       "      <td>1.500000</td>\n",
       "    </tr>\n",
       "    <tr>\n",
       "      <td>Üvegtigris (2001)</td>\n",
       "      <td>3.000000</td>\n",
       "    </tr>\n",
       "    <tr>\n",
       "      <td>貞子3D (2012)</td>\n",
       "      <td>1.500000</td>\n",
       "    </tr>\n",
       "  </tbody>\n",
       "</table>\n",
       "<p>26729 rows × 1 columns</p>\n",
       "</div>"
      ],
      "text/plain": [
       "                                                      rating\n",
       "title                                                       \n",
       "#chicagoGirl: The Social Network Takes on a Dic...  3.666667\n",
       "$ (Dollars) (1971)                                  2.833333\n",
       "$5 a Day (2008)                                     2.871795\n",
       "$9.99 (2008)                                        3.009091\n",
       "$ellebrity (Sellebrity) (2012)                      2.000000\n",
       "...                                                      ...\n",
       "À propos de Nice (1930)                             3.125000\n",
       "Árido Movie (2005)                                  2.000000\n",
       "Åsa-Nisse - Wälkom to Knohult (2011)                1.500000\n",
       "Üvegtigris (2001)                                   3.000000\n",
       "貞子3D (2012)                                         1.500000\n",
       "\n",
       "[26729 rows x 1 columns]"
      ]
     },
     "execution_count": 32,
     "metadata": {},
     "output_type": "execute_result"
    }
   ],
   "source": [
    "movie_rating = pd.DataFrame(combined.groupby('title').mean()['rating'])\n",
    "movie_rating"
   ]
  },
  {
   "cell_type": "code",
   "execution_count": 100,
   "metadata": {},
   "outputs": [
    {
     "data": {
      "text/html": [
       "<div>\n",
       "<style scoped>\n",
       "    .dataframe tbody tr th:only-of-type {\n",
       "        vertical-align: middle;\n",
       "    }\n",
       "\n",
       "    .dataframe tbody tr th {\n",
       "        vertical-align: top;\n",
       "    }\n",
       "\n",
       "    .dataframe thead th {\n",
       "        text-align: right;\n",
       "    }\n",
       "</style>\n",
       "<table border=\"1\" class=\"dataframe\">\n",
       "  <thead>\n",
       "    <tr style=\"text-align: right;\">\n",
       "      <th></th>\n",
       "      <th>rating</th>\n",
       "    </tr>\n",
       "    <tr>\n",
       "      <th>title</th>\n",
       "      <th></th>\n",
       "    </tr>\n",
       "  </thead>\n",
       "  <tbody>\n",
       "    <tr>\n",
       "      <td>Small Roads (2011)</td>\n",
       "      <td>5.0</td>\n",
       "    </tr>\n",
       "    <tr>\n",
       "      <td>Divorce (1945)</td>\n",
       "      <td>5.0</td>\n",
       "    </tr>\n",
       "    <tr>\n",
       "      <td>The Beautiful Story (1992)</td>\n",
       "      <td>5.0</td>\n",
       "    </tr>\n",
       "    <tr>\n",
       "      <td>Into the Middle of Nowhere (2010)</td>\n",
       "      <td>5.0</td>\n",
       "    </tr>\n",
       "    <tr>\n",
       "      <td>The Sea That Thinks (2000)</td>\n",
       "      <td>5.0</td>\n",
       "    </tr>\n",
       "    <tr>\n",
       "      <td>The Wrecking Crew (2008)</td>\n",
       "      <td>5.0</td>\n",
       "    </tr>\n",
       "    <tr>\n",
       "      <td>Marihuana (1936)</td>\n",
       "      <td>5.0</td>\n",
       "    </tr>\n",
       "    <tr>\n",
       "      <td>No Distance Left to Run (2010)</td>\n",
       "      <td>5.0</td>\n",
       "    </tr>\n",
       "    <tr>\n",
       "      <td>Stargate SG-1 Children of the Gods - Final Cut (2009)</td>\n",
       "      <td>5.0</td>\n",
       "    </tr>\n",
       "    <tr>\n",
       "      <td>This Thing With Sarah (2013)</td>\n",
       "      <td>5.0</td>\n",
       "    </tr>\n",
       "    <tr>\n",
       "      <td>The great match (2007)</td>\n",
       "      <td>5.0</td>\n",
       "    </tr>\n",
       "    <tr>\n",
       "      <td>Schmatta: Rags to Riches to Rags (2009)</td>\n",
       "      <td>5.0</td>\n",
       "    </tr>\n",
       "    <tr>\n",
       "      <td>Flight of the Conchords: A Texan Odyssey (2006)</td>\n",
       "      <td>5.0</td>\n",
       "    </tr>\n",
       "    <tr>\n",
       "      <td>Paying the Price: Killing the Children of Iraq (2000)</td>\n",
       "      <td>5.0</td>\n",
       "    </tr>\n",
       "    <tr>\n",
       "      <td>Little Criminals (1995)</td>\n",
       "      <td>5.0</td>\n",
       "    </tr>\n",
       "    <tr>\n",
       "      <td>Consuming Kids: The Commercialization of Childhood (2008)</td>\n",
       "      <td>5.0</td>\n",
       "    </tr>\n",
       "    <tr>\n",
       "      <td>The Old Gun (1975)</td>\n",
       "      <td>5.0</td>\n",
       "    </tr>\n",
       "    <tr>\n",
       "      <td>A Night for Dying Tigers (2010)</td>\n",
       "      <td>5.0</td>\n",
       "    </tr>\n",
       "    <tr>\n",
       "      <td>Rent-a-Cat (2012)</td>\n",
       "      <td>5.0</td>\n",
       "    </tr>\n",
       "    <tr>\n",
       "      <td>The Secret Country: The First Australians Fight Back (1986)</td>\n",
       "      <td>5.0</td>\n",
       "    </tr>\n",
       "  </tbody>\n",
       "</table>\n",
       "</div>"
      ],
      "text/plain": [
       "                                                    rating\n",
       "title                                                     \n",
       "Small Roads (2011)                                     5.0\n",
       "Divorce (1945)                                         5.0\n",
       "The Beautiful Story (1992)                             5.0\n",
       "Into the Middle of Nowhere (2010)                      5.0\n",
       "The Sea That Thinks (2000)                             5.0\n",
       "The Wrecking Crew (2008)                               5.0\n",
       "Marihuana (1936)                                       5.0\n",
       "No Distance Left to Run (2010)                         5.0\n",
       "Stargate SG-1 Children of the Gods - Final Cut ...     5.0\n",
       "This Thing With Sarah (2013)                           5.0\n",
       "The great match (2007)                                 5.0\n",
       "Schmatta: Rags to Riches to Rags (2009)                5.0\n",
       "Flight of the Conchords: A Texan Odyssey (2006)        5.0\n",
       "Paying the Price: Killing the Children of Iraq ...     5.0\n",
       "Little Criminals (1995)                                5.0\n",
       "Consuming Kids: The Commercialization of Childh...     5.0\n",
       "The Old Gun (1975)                                     5.0\n",
       "A Night for Dying Tigers (2010)                        5.0\n",
       "Rent-a-Cat (2012)                                      5.0\n",
       "The Secret Country: The First Australians Fight...     5.0"
      ]
     },
     "execution_count": 100,
     "metadata": {},
     "output_type": "execute_result"
    }
   ],
   "source": [
    "movie_rating.sort_values('rating', ascending=False)\n",
    "\n",
    "avg_movie_ratings = pd.DataFrame(combined.groupby('title').mean()['rating'])\n",
    "avg_movie_ratings_top_20 = avg_movie_ratings.sort_values('rating', ascending=False).head(20)\n",
    "avg_movie_ratings_top_20"
   ]
  },
  {
   "cell_type": "code",
   "execution_count": 101,
   "metadata": {},
   "outputs": [
    {
     "data": {
      "text/plain": [
       "Text(0, 0.5, 'Movie titles')"
      ]
     },
     "execution_count": 101,
     "metadata": {},
     "output_type": "execute_result"
    },
    {
     "data": {
      "image/png": "[encoded data removed]",
      "text/plain": [
       "<Figure size 1080x576 with 1 Axes>"
      ]
     },
     "metadata": {
      "needs_background": "light"
     },
     "output_type": "display_data"
    }
   ],
   "source": [
    "#Top 15 rated movies\n",
    "plt.figure(figsize=(15,8))\n",
    "sns.barplot(avg_movie_ratings_top_20['rating'], avg_movie_ratings_top_20.index, color=\"salmon\")\n",
    "plt.title('Top 20 rated movies')\n",
    "plt.xlabel('# of rating per movie')\n",
    "plt.ylabel('Movie titles')"
   ]
  },
  {
   "cell_type": "code",
   "execution_count": 67,
   "metadata": {},
   "outputs": [
    {
     "data": {
      "text/html": [
       "<div>\n",
       "<style scoped>\n",
       "    .dataframe tbody tr th:only-of-type {\n",
       "        vertical-align: middle;\n",
       "    }\n",
       "\n",
       "    .dataframe tbody tr th {\n",
       "        vertical-align: top;\n",
       "    }\n",
       "\n",
       "    .dataframe thead th {\n",
       "        text-align: right;\n",
       "    }\n",
       "</style>\n",
       "<table border=\"1\" class=\"dataframe\">\n",
       "  <thead>\n",
       "    <tr style=\"text-align: right;\">\n",
       "      <th></th>\n",
       "      <th>rating</th>\n",
       "    </tr>\n",
       "    <tr>\n",
       "      <th>title</th>\n",
       "      <th></th>\n",
       "    </tr>\n",
       "  </thead>\n",
       "  <tbody>\n",
       "    <tr>\n",
       "      <td>Pulp Fiction (1994)</td>\n",
       "      <td>67310</td>\n",
       "    </tr>\n",
       "    <tr>\n",
       "      <td>Forrest Gump (1994)</td>\n",
       "      <td>66172</td>\n",
       "    </tr>\n",
       "    <tr>\n",
       "      <td>Shawshank Redemption, The (1994)</td>\n",
       "      <td>63366</td>\n",
       "    </tr>\n",
       "    <tr>\n",
       "      <td>Silence of the Lambs, The (1991)</td>\n",
       "      <td>63299</td>\n",
       "    </tr>\n",
       "    <tr>\n",
       "      <td>Jurassic Park (1993)</td>\n",
       "      <td>59715</td>\n",
       "    </tr>\n",
       "    <tr>\n",
       "      <td>Star Wars: Episode IV - A New Hope (1977)</td>\n",
       "      <td>54502</td>\n",
       "    </tr>\n",
       "    <tr>\n",
       "      <td>Braveheart (1995)</td>\n",
       "      <td>53769</td>\n",
       "    </tr>\n",
       "    <tr>\n",
       "      <td>Terminator 2: Judgment Day (1991)</td>\n",
       "      <td>52244</td>\n",
       "    </tr>\n",
       "    <tr>\n",
       "      <td>Matrix, The (1999)</td>\n",
       "      <td>51334</td>\n",
       "    </tr>\n",
       "    <tr>\n",
       "      <td>Schindler's List (1993)</td>\n",
       "      <td>50054</td>\n",
       "    </tr>\n",
       "    <tr>\n",
       "      <td>Toy Story (1995)</td>\n",
       "      <td>49695</td>\n",
       "    </tr>\n",
       "    <tr>\n",
       "      <td>Fugitive, The (1993)</td>\n",
       "      <td>49581</td>\n",
       "    </tr>\n",
       "    <tr>\n",
       "      <td>Apollo 13 (1995)</td>\n",
       "      <td>47777</td>\n",
       "    </tr>\n",
       "    <tr>\n",
       "      <td>Independence Day (a.k.a. ID4) (1996)</td>\n",
       "      <td>47048</td>\n",
       "    </tr>\n",
       "    <tr>\n",
       "      <td>Usual Suspects, The (1995)</td>\n",
       "      <td>47006</td>\n",
       "    </tr>\n",
       "  </tbody>\n",
       "</table>\n",
       "</div>"
      ],
      "text/plain": [
       "                                           rating\n",
       "title                                            \n",
       "Pulp Fiction (1994)                         67310\n",
       "Forrest Gump (1994)                         66172\n",
       "Shawshank Redemption, The (1994)            63366\n",
       "Silence of the Lambs, The (1991)            63299\n",
       "Jurassic Park (1993)                        59715\n",
       "Star Wars: Episode IV - A New Hope (1977)   54502\n",
       "Braveheart (1995)                           53769\n",
       "Terminator 2: Judgment Day (1991)           52244\n",
       "Matrix, The (1999)                          51334\n",
       "Schindler's List (1993)                     50054\n",
       "Toy Story (1995)                            49695\n",
       "Fugitive, The (1993)                        49581\n",
       "Apollo 13 (1995)                            47777\n",
       "Independence Day (a.k.a. ID4) (1996)        47048\n",
       "Usual Suspects, The (1995)                  47006"
      ]
     },
     "execution_count": 67,
     "metadata": {},
     "output_type": "execute_result"
    }
   ],
   "source": [
    "movie_rating_count = pd.DataFrame(combined.groupby('title').count()['rating'])\n",
    "movie_rating_count_top_15 = movie_rating_count.sort_values('rating', ascending=False).head(15)\n",
    "movie_rating_count_top_15"
   ]
  },
  {
   "cell_type": "code",
   "execution_count": 68,
   "metadata": {},
   "outputs": [
    {
     "data": {
      "text/plain": [
       "Text(0, 0.5, 'Movie titles')"
      ]
     },
     "execution_count": 68,
     "metadata": {},
     "output_type": "execute_result"
    },
    {
     "data": {
      "image/png": "[encoded data removed]",
      "text/plain": [
       "<Figure size 1080x576 with 1 Axes>"
      ]
     },
     "metadata": {
      "needs_background": "light"
     },
     "output_type": "display_data"
    }
   ],
   "source": [
    "#Top 15 movies with the most ratings\n",
    "plt.figure(figsize=(15,8))\n",
    "sns.barplot(movie_rating_count_top_15['rating'], movie_rating_count_top_15.index, color=\"gold\")\n",
    "plt.title('Top 15 Movies with the most ratings')\n",
    "plt.xlabel('# of ratings')\n",
    "plt.ylabel('Movie titles')"
   ]
  },
  {
   "cell_type": "code",
   "execution_count": 85,
   "metadata": {},
   "outputs": [
    {
     "data": {
      "text/plain": [
       "['Pulp Fiction (1994)',\n",
       " 'Forrest Gump (1994)',\n",
       " 'Shawshank Redemption, The (1994)',\n",
       " 'Silence of the Lambs, The (1991)',\n",
       " 'Jurassic Park (1993)',\n",
       " 'Star Wars: Episode IV - A New Hope (1977)',\n",
       " 'Braveheart (1995)',\n",
       " 'Terminator 2: Judgment Day (1991)',\n",
       " 'Matrix, The (1999)',\n",
       " \"Schindler's List (1993)\",\n",
       " 'Toy Story (1995)',\n",
       " 'Fugitive, The (1993)',\n",
       " 'Apollo 13 (1995)',\n",
       " 'Independence Day (a.k.a. ID4) (1996)',\n",
       " 'Usual Suspects, The (1995)']"
      ]
     },
     "execution_count": 85,
     "metadata": {},
     "output_type": "execute_result"
    }
   ],
   "source": [
    "movie_rating_count_top_15.index.tolist()"
   ]
  },
  {
   "cell_type": "code",
   "execution_count": 99,
   "metadata": {},
   "outputs": [
    {
     "data": {
      "text/plain": [
       "Text(0, 0.5, 'Movie titles')"
      ]
     },
     "execution_count": 99,
     "metadata": {},
     "output_type": "execute_result"
    },
    {
     "data": {
      "image/png": "[encoded data removed]",
      "text/plain": [
       "<Figure size 1080x576 with 1 Axes>"
      ]
     },
     "metadata": {
      "needs_background": "light"
     },
     "output_type": "display_data"
    }
   ],
   "source": [
    "actual_rating = pd.DataFrame(combined[combined['title'].isin(movie_rating_count_top_15.index.tolist())].groupby('title').mean()['rating'])\n",
    "actual_rating.sort_values('rating', ascending=False)\n",
    "\n",
    "\n",
    "#Ratings for top 15 Movies with the most ratings\n",
    "plt.figure(figsize=(15,8))\n",
    "sns.barplot(actual_rating.sort_values('rating', ascending=False)['rating'], actual_rating.sort_values('rating', ascending=False).index, color=\"aqua\")\n",
    "plt.title('Ratings for top 15 Movies with the most ratings')\n",
    "plt.xlabel('Average ratings')\n",
    "plt.ylabel('Movie titles')"
   ]
  },
  {
   "cell_type": "code",
   "execution_count": null,
   "metadata": {},
   "outputs": [],
   "source": [
    "df[df['A'].isin([3, 6])]"
   ]
  }
 ],
 "metadata": {
  "kernelspec": {
   "display_name": "Python 3",
   "language": "python",
   "name": "python3"
  },
  "language_info": {
   "codemirror_mode": {
    "name": "ipython",
    "version": 3
   },
   "file_extension": ".py",
   "mimetype": "text/x-python",
   "name": "python",
   "nbconvert_exporter": "python",
   "pygments_lexer": "ipython3",
   "version": "3.7.4"
  },
  "toc": {
   "base_numbering": 1,
   "nav_menu": {},
   "number_sections": true,
   "sideBar": true,
   "skip_h1_title": false,
   "title_cell": "Table of Contents",
   "title_sidebar": "Contents",
   "toc_cell": false,
   "toc_position": {},
   "toc_section_display": true,
   "toc_window_display": false
  }
 },
 "nbformat": 4,
 "nbformat_minor": 2
}
